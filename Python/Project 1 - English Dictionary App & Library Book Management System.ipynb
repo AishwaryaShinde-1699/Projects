{
 "cells": [
  {
   "cell_type": "markdown",
   "id": "335a2ff6",
   "metadata": {},
   "source": [
    "# Project 1 - English Dictionary App & Library Book Management System"
   ]
  },
  {
   "cell_type": "markdown",
   "id": "ed7741ad",
   "metadata": {},
   "source": [
    "**Aim: to create an English Dictionary app that returns definitions of English words.**"
   ]
  },
  {
   "cell_type": "markdown",
   "id": "9f232951",
   "metadata": {},
   "source": [
    "## 1A English Dictionary App"
   ]
  },
  {
   "cell_type": "code",
   "execution_count": 1,
   "id": "578d5c73",
   "metadata": {},
   "outputs": [
    {
     "data": {
      "text/plain": [
       "''"
      ]
     },
     "execution_count": 1,
     "metadata": {},
     "output_type": "execute_result"
    }
   ],
   "source": [
    "import sys\n",
    "import fileinput\n",
    "from tkinter import *\n",
    "import json\n",
    "window=Tk()\n",
    "window.geometry('250x200')"
   ]
  },
  {
   "cell_type": "code",
   "execution_count": 2,
   "id": "79b17962",
   "metadata": {},
   "outputs": [],
   "source": [
    "def Add_Word():\n",
    "    f = open('word.txt', 'a+')\n",
    "    word = input(\"Enter your word :  \")\n",
    "    meaning = input(\" Enter the Meaning of the word   :   \")\n",
    "    a = word + \" : \" + meaning\n",
    "    f.write(\"\\n\")\n",
    "    f.write(a)\n",
    "    print(\"data write sucsessfully!\")\n",
    "    f.close()"
   ]
  },
  {
   "cell_type": "code",
   "execution_count": 3,
   "id": "c67d9c0e",
   "metadata": {},
   "outputs": [],
   "source": [
    "def Find_Meaning():\n",
    "    readFile = open('word.txt', 'r')\n",
    "    print(readFile)\n",
    "    word = input(\"Enter word to find the meaning  : \")\n",
    "    for i in readFile:\n",
    "        if word in i:\n",
    "            print(f'This word present in the dictionary   \\t \" {i} \"   :    ' )\n",
    "            break\n",
    "    readFile.close()"
   ]
  },
  {
   "cell_type": "code",
   "execution_count": 4,
   "id": "65a1db7e",
   "metadata": {},
   "outputs": [],
   "source": [
    "def update():\n",
    "    file = open('words.txt',\"w\")\n",
    "    word=entry.get()\n",
    "    json.dump(word,file)\n",
    "    file.close()"
   ]
  },
  {
   "cell_type": "code",
   "execution_count": 5,
   "id": "24176861",
   "metadata": {},
   "outputs": [],
   "source": [
    "entry=Entry(window,font=(\"times\",15,\"bold\"))\n",
    "entry.grid(row=2,column=2)\n",
    "b1=Button(window,text=\"Add a new word\",command=Add_Word)\n",
    "b1.grid(row=4,column=2)\n",
    "b2=Button(window,text=\"Find meaning\",command=Find_Meaning)\n",
    "b2.grid(row=6,column=2)\n",
    "b3=Button(window,text=\"UPDATE\",command=update)\n",
    "b3.grid(row=8,column=2)\n",
    "b4=Button(window,text=\"Exit\",command=window.destroy)\n",
    "b4.grid(row=10,column=2)"
   ]
  },
  {
   "cell_type": "code",
   "execution_count": null,
   "id": "26e61c57",
   "metadata": {},
   "outputs": [
    {
     "name": "stdout",
     "output_type": "stream",
     "text": [
      "Enter your word :  Happy\n",
      " Enter the Meaning of the word   :   dhcnhdc\n",
      "data write sucsessfully!\n"
     ]
    }
   ],
   "source": [
    "window.mainloop()"
   ]
  },
  {
   "cell_type": "markdown",
   "id": "82074f9f",
   "metadata": {},
   "source": [
    "## 1B Library Book Management System"
   ]
  },
  {
   "cell_type": "code",
   "execution_count": null,
   "id": "649fb288",
   "metadata": {},
   "outputs": [],
   "source": [
    "def create_table():\n",
    "    con=sqlite3.connect('mybooks.db')\n",
    "    cur=con.cursor()\n",
    "    cur.execute('CREATE TABLE IF NOT EXISTS books(bid VARCHAR(20) primary key,title VARCHAR(30), author VARCHAR(30), year VARCHAR(4))')\n",
    "    con.commit()\n",
    "    con.close()"
   ]
  },
  {
   "cell_type": "code",
   "execution_count": null,
   "id": "f68181c6",
   "metadata": {},
   "outputs": [],
   "source": [
    "from tkinter import *\n",
    "from tkinter import messagebox\n",
    "import sqlite3"
   ]
  },
  {
   "cell_type": "code",
   "execution_count": null,
   "id": "5ebd41e2",
   "metadata": {},
   "outputs": [],
   "source": [
    "def bookRegister():\n",
    "    \n",
    "    bid = bookInfo1.get()\n",
    "    title = bookInfo2.get()\n",
    "    author = bookInfo3.get()\n",
    "    year = bookInfo4.get()\n",
    "    \n",
    "    \n",
    "    insertBooks = \"insert into \"+bookTable+\" values('\"+bid+\"','\"+title+\"','\"+author+\"','\"+year+\"')\"\n",
    "    try:\n",
    "        cur.execute(insertBooks)\n",
    "        con.commit()\n",
    "        messagebox.showinfo('Success',\"Book added successfully\")\n",
    "    except:\n",
    "        messagebox.showinfo(\"Error\",\"Can't add data into Database\")\n",
    "    \n",
    "    print(bid)\n",
    "    print(title)\n",
    "    print(author)\n",
    "    print(year)\n",
    "\n",
    "\n",
    "    window.destroy()"
   ]
  },
  {
   "cell_type": "code",
   "execution_count": null,
   "id": "5517e4a7",
   "metadata": {},
   "outputs": [],
   "source": [
    "def addBook(): \n",
    "    \n",
    "    global bookInfo1,bookInfo2,bookInfo3,bookInfo4,Canvas1,con,cur,bookTable,window\n",
    "    \n",
    "    window = Tk()\n",
    "    window.title(\"Library\")\n",
    "    window.minsize(width=400,height=400)\n",
    "    window.geometry(\"600x500\")\n",
    "\n",
    "    mypass = \"window\"\n",
    "    mydatabase=\"db\"\n",
    "\n",
    "    con = sqlite3.connect('mybooks.db')\n",
    "    cur = con.cursor()\n",
    "\n",
    "    bookTable = \"books\"\n",
    "    Canvas1 = Canvas(window)\n",
    "    \n",
    "    Canvas1.config(bg=\"#ff6e40\")\n",
    "    Canvas1.pack(expand=True,fill=BOTH)\n",
    "        \n",
    "    headingFrame1 = Frame(window,bg=\"#FFBB00\",bd=5)\n",
    "    headingFrame1.place(relx=0.25,rely=0.1,relwidth=0.5,relheight=0.13)\n",
    "\n",
    "    headingLabel = Label(headingFrame1, text=\"Add Books\", bg='black', fg='white', font=('Courier',15))\n",
    "    headingLabel.place(relx=0,rely=0, relwidth=1, relheight=1)\n",
    "\n",
    "\n",
    "    labelFrame = Frame(window,bg='black')\n",
    "    labelFrame.place(relx=0.1,rely=0.4,relwidth=0.8,relheight=0.4)\n",
    "    \n",
    "    lb1 = Label(labelFrame,text=\"Book ID : \", bg='black', fg='white')\n",
    "    lb1.place(relx=0.05,rely=0.2, relheight=0.08)\n",
    "        \n",
    "    bookInfo1 = Entry(labelFrame)\n",
    "    bookInfo1.place(relx=0.3,rely=0.2, relwidth=0.62, relheight=0.08)\n",
    "        \n",
    " \n",
    "    lb2 = Label(labelFrame,text=\"Title : \", bg='black', fg='white')\n",
    "    lb2.place(relx=0.05,rely=0.35, relheight=0.08)\n",
    "        \n",
    "    bookInfo2 = Entry(labelFrame)\n",
    "    bookInfo2.place(relx=0.3,rely=0.35, relwidth=0.62, relheight=0.08)\n",
    "        \n",
    "    \n",
    "    lb3 = Label(labelFrame,text=\"Author : \", bg='black', fg='white')\n",
    "    lb3.place(relx=0.05,rely=0.50, relheight=0.08)\n",
    "        \n",
    "    bookInfo3 = Entry(labelFrame)\n",
    "    bookInfo3.place(relx=0.3,rely=0.50, relwidth=0.62, relheight=0.08)\n",
    "        \n",
    "   \n",
    "    lb4 = Label(labelFrame,text=\"Year : \", bg='black', fg='white')\n",
    "    lb4.place(relx=0.05,rely=0.65, relheight=0.08)\n",
    "        \n",
    "    bookInfo4 = Entry(labelFrame)\n",
    "    bookInfo4.place(relx=0.3,rely=0.65, relwidth=0.62, relheight=0.08)\n",
    "    \n",
    "    SubmitBtn = Button(window,text=\"SUBMIT\",bg='#d1ccc0', fg='black',command=bookRegister)\n",
    "    SubmitBtn.place(relx=0.28,rely=0.9, relwidth=0.18,relheight=0.08)\n",
    "    \n",
    "    quitBtn = Button(window,text=\"Quit\",bg='#f7f1e3', fg='black', command=window.destroy)\n",
    "    quitBtn.place(relx=0.53,rely=0.9, relwidth=0.18,relheight=0.08)\n",
    "    \n",
    "    window.mainloop()"
   ]
  },
  {
   "cell_type": "code",
   "execution_count": null,
   "id": "3c36d1fa",
   "metadata": {},
   "outputs": [],
   "source": [
    "mypass = \"window\"\n",
    "mydatabase=\"db\"\n",
    "\n",
    "con = sqlite3.connect('mybooks.db')\n",
    "cur = con.cursor()\n",
    "\n",
    "\n",
    "bookTable = \"books\" "
   ]
  },
  {
   "cell_type": "code",
   "execution_count": null,
   "id": "9ad2fb89",
   "metadata": {},
   "outputs": [],
   "source": [
    "def View(): \n",
    "    \n",
    "    window = Tk()\n",
    "    window.title(\"Library\")\n",
    "    window.minsize(width=400,height=400)\n",
    "    window.geometry(\"600x500\")\n",
    "\n",
    "\n",
    "    Canvas1 = Canvas(window) \n",
    "    Canvas1.config(bg=\"#12a4d9\")\n",
    "    Canvas1.pack(expand=True,fill=BOTH)\n",
    "        \n",
    "        \n",
    "    headingFrame1 = Frame(window,bg=\"#FFBB00\",bd=5)\n",
    "    headingFrame1.place(relx=0.25,rely=0.1,relwidth=0.5,relheight=0.13)\n",
    "        \n",
    "    headingLabel = Label(headingFrame1, text=\"View Books\", bg='black', fg='white', font=('Courier',15))\n",
    "    headingLabel.place(relx=0,rely=0, relwidth=1, relheight=1)\n",
    "    \n",
    "    labelFrame = Frame(window,bg='black')\n",
    "    labelFrame.place(relx=0.1,rely=0.3,relwidth=0.8,relheight=0.5)\n",
    "    y = 0.25\n",
    "    \n",
    "    Label(labelFrame, text=\"%-10s%-40s%-30s%-20s\"%('BID','Title','Author','Status'),bg='black',fg='white').place(relx=0.07,rely=0.1)\n",
    "    Label(labelFrame, text=\"----------------------------------------------------------------------------\",bg='black',fg='white').place(relx=0.05,rely=0.2)\n",
    "    getBooks = \"select * from \"+bookTable\n",
    "    try:\n",
    "        cur.execute(getBooks)\n",
    "        con.commit()\n",
    "        for i in cur:\n",
    "            Label(labelFrame, text=\"%-10s%-30s%-30s%-20s\"%(i[0],i[1],i[2],i[3]),bg='black',fg='white').place(relx=0.07,rely=y)\n",
    "            y += 0.1\n",
    "    except:\n",
    "        messagebox.showinfo(\"Failed to fetch files from database\")\n",
    "    \n",
    "    quitBtn = Button(window,text=\"Quit\",bg='#f7f1e3', fg='black', command=window.destroy)\n",
    "    quitBtn.place(relx=0.4,rely=0.9, relwidth=0.18,relheight=0.08)\n",
    "    \n",
    "    window.mainloop()"
   ]
  },
  {
   "cell_type": "code",
   "execution_count": null,
   "id": "ce8f5ef2",
   "metadata": {},
   "outputs": [],
   "source": [
    "mypass = \"window\"\n",
    "mydatabase=\"db\"\n",
    "\n",
    "con = sqlite3.connect('mybooks.db')\n",
    "cur = con.cursor()\n",
    "\n",
    "\n",
    "bookTable = \"books\" "
   ]
  },
  {
   "cell_type": "code",
   "execution_count": null,
   "id": "53f2b6d7",
   "metadata": {},
   "outputs": [],
   "source": [
    "def deleteBook():\n",
    "    \n",
    "    bid = bookInfo1.get()\n",
    "    \n",
    "    deleteSql = \"delete from \"+bookTable+\" where bid = '\"+bid+\"'\"\n",
    "    try:\n",
    "        cur.execute(deleteSql)\n",
    "        con.commit()\n",
    "        messagebox.showinfo('Success',\"Book Record Deleted Successfully\")\n",
    "    except:\n",
    "        messagebox.showinfo(\"Please check Book ID\")\n",
    "    \n",
    "\n",
    "    print(bid)\n",
    "\n",
    "    bookInfo1.delete(0, END)\n",
    "    window.destroy()"
   ]
  },
  {
   "cell_type": "code",
   "execution_count": null,
   "id": "13a39ae8",
   "metadata": {},
   "outputs": [],
   "source": [
    "def delete(): \n",
    "    \n",
    "    global bookInfo1,bookInfo2,bookInfo3,bookInfo4,Canvas1,con,cur,bookTable,window\n",
    "    \n",
    "    window = Tk()\n",
    "    window.title(\"Library\")\n",
    "    window.minsize(width=400,height=400)\n",
    "    window.geometry(\"600x500\")\n",
    "\n",
    "    \n",
    "    Canvas1 = Canvas(window)\n",
    "    \n",
    "    Canvas1.config(bg=\"#006B38\")\n",
    "    Canvas1.pack(expand=True,fill=BOTH)\n",
    "        \n",
    "    headingFrame1 = Frame(window,bg=\"#FFBB00\",bd=5)\n",
    "    headingFrame1.place(relx=0.25,rely=0.1,relwidth=0.5,relheight=0.13)\n",
    "        \n",
    "    headingLabel = Label(headingFrame1, text=\"Delete Book\", bg='black', fg='white', font=('Courier',15))\n",
    "    headingLabel.place(relx=0,rely=0, relwidth=1, relheight=1)\n",
    "    \n",
    "    labelFrame = Frame(window,bg='black')\n",
    "    labelFrame.place(relx=0.1,rely=0.3,relwidth=0.8,relheight=0.5)   \n",
    "        \n",
    "   \n",
    "    lb2 = Label(labelFrame,text=\"Book ID : \", bg='black', fg='white')\n",
    "    lb2.place(relx=0.05,rely=0.5)\n",
    "        \n",
    "    bookInfo1 = Entry(labelFrame)\n",
    "    bookInfo1.place(relx=0.3,rely=0.5, relwidth=0.62)\n",
    "    \n",
    "\n",
    "    SubmitBtn = Button(window,text=\"SUBMIT\",bg='#d1ccc0', fg='black',command=deleteBook)\n",
    "    SubmitBtn.place(relx=0.28,rely=0.9, relwidth=0.18,relheight=0.08)\n",
    "    \n",
    "    quitBtn = Button(window,text=\"Quit\",bg='#f7f1e3', fg='black', command=window.destroy)\n",
    "    quitBtn.place(relx=0.53,rely=0.9, relwidth=0.18,relheight=0.08)\n",
    "    \n",
    "    window.mainloop()"
   ]
  },
  {
   "cell_type": "code",
   "execution_count": 10,
   "id": "9aa18b0d",
   "metadata": {},
   "outputs": [
    {
     "data": {
      "text/plain": [
       "''"
      ]
     },
     "execution_count": 10,
     "metadata": {},
     "output_type": "execute_result"
    }
   ],
   "source": [
    "window =Tk()\n",
    "window.title(\"Library\")\n",
    "window.minsize(width=400,height=400)\n",
    "window.geometry(\"600x500\")"
   ]
  },
  {
   "cell_type": "code",
   "execution_count": 11,
   "id": "e8ac64b2",
   "metadata": {},
   "outputs": [],
   "source": [
    "headingFrame1 = Frame(window,bg=\"#FFBB00\",bd=5)\n",
    "headingFrame1.place(relx=0.2,rely=0.1,relwidth=0.7,relheight=0.16)\n",
    "headingLabel = Label(headingFrame1, text=\"Welcome to \\n Library Management Application\", bg='black', fg='white', font=('Courier',15))\n",
    "headingLabel.place(relx=0,rely=0, relwidth=1, relheight=1)"
   ]
  },
  {
   "cell_type": "code",
   "execution_count": 12,
   "id": "4f8e3741",
   "metadata": {},
   "outputs": [
    {
     "name": "stdout",
     "output_type": "stream",
     "text": [
      "\t9788183225090\n",
      "BELIEVE IN YOURSELF\n",
      "\tJoseph Murphy\n",
      "2015\n"
     ]
    }
   ],
   "source": [
    "b1 = Button(window,text=\"Add Book Details\",bg='black', fg='white', command=addBook)\n",
    "b1.place(relx=0.28,rely=0.4, relwidth=0.45,relheight=0.1)\n",
    "    \n",
    "b2 = Button(window,text=\"Delete Book\",bg='black', fg='white', command=delete)\n",
    "b2.place(relx=0.28,rely=0.5, relwidth=0.45,relheight=0.1)\n",
    "    \n",
    "b3 = Button(window,text=\"View Book List\",bg='black', fg='white', command=View)\n",
    "b3.place(relx=0.28,rely=0.6, relwidth=0.45,relheight=0.1)\n",
    "    \n",
    "window.mainloop()"
   ]
  }
 ],
 "metadata": {
  "kernelspec": {
   "display_name": "Python 3 (ipykernel)",
   "language": "python",
   "name": "python3"
  },
  "language_info": {
   "codemirror_mode": {
    "name": "ipython",
    "version": 3
   },
   "file_extension": ".py",
   "mimetype": "text/x-python",
   "name": "python",
   "nbconvert_exporter": "python",
   "pygments_lexer": "ipython3",
   "version": "3.9.7"
  }
 },
 "nbformat": 4,
 "nbformat_minor": 5
}
